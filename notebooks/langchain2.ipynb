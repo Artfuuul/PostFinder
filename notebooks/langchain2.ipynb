{
 "cells": [
  {
   "cell_type": "code",
   "execution_count": 1,
   "metadata": {},
   "outputs": [],
   "source": [
    "# FIX BUG WITH SQLITE\n",
    "# https://gist.github.com/defulmere/8b9695e415a44271061cc8e272f3c300\n",
    "\n",
    "__import__('pysqlite3')\n",
    "import sys\n",
    "import os\n",
    "sys.modules['sqlite3'] = sys.modules.pop('pysqlite3')\n",
    "\n",
    "DATABASES = {\n",
    "    'default': {\n",
    "        'ENGINE': 'django.db.backends.sqlite3',\n",
    "        'NAME': os.path.join('..', 'db.sqlite3'),\n",
    "    }\n",
    "}"
   ]
  },
  {
   "cell_type": "code",
   "execution_count": 2,
   "metadata": {},
   "outputs": [],
   "source": [
    "import os\n",
    "import openai\n",
    "from dotenv import load_dotenv\n",
    "from langchain_community.document_loaders import TextLoader\n",
    "from langchain.embeddings import OpenAIEmbeddings\n",
    "from langchain.text_splitter import CharacterTextSplitter\n",
    "from langchain.vectorstores import Chroma\n",
    "from langchain.prompts import PromptTemplate\n",
    "from langchain_community.llms import OpenAI\n",
    "from langchain.chains import VectorDBQA\n",
    "from langchain.schema.document import Document"
   ]
  },
  {
   "cell_type": "code",
   "execution_count": 3,
   "metadata": {},
   "outputs": [],
   "source": [
    "from langchain_community.document_loaders.csv_loader import CSVLoader"
   ]
  },
  {
   "cell_type": "code",
   "execution_count": 4,
   "metadata": {},
   "outputs": [],
   "source": [
    "loader = CSVLoader(file_path=os.path.join(sys.path[0], \"../src/artifacts/@karpovcourseschat.csv\"), source_column=\"text\", metadata_columns=[\"date\", \"message_id\"], csv_args={\n",
    "    \"delimiter\": \";\",\n",
    "})\n",
    "data = loader.load()"
   ]
  },
  {
   "cell_type": "code",
   "execution_count": 5,
   "metadata": {},
   "outputs": [
    {
     "name": "stdout",
     "output_type": "stream",
     "text": [
      "[Document(page_content='text: а я сильно загружал: обучался питону. ролики, сайты, редактор кода. одних вкладок открыто постоянно 50-100', metadata={'source': 'а я сильно загружал: обучался питону. ролики, сайты, редактор кода. одних вкладок открыто постоянно 50-100', 'row': 0, 'date': '2024-01-05 11:11:44+00:00', 'message_id': '192405'}), Document(page_content='text: Не особо', metadata={'source': 'Не особо', 'row': 1, 'date': '2024-01-05 11:05:58+00:00', 'message_id': '192404'}), Document(page_content='text: видимо, нормально для этих моделей 🤔', metadata={'source': 'видимо, нормально для этих моделей 🤔', 'row': 2, 'date': '2024-01-05 11:02:47+00:00', 'message_id': '192403'}), Document(page_content='text: оперативу загружаешь?', metadata={'source': 'оперативу загружаешь?', 'row': 3, 'date': '2024-01-05 11:02:25+00:00', 'message_id': '192402'}), Document(page_content='text: У меня такой мак уже год, 90% времени подключен к монитору, 98% аккум', metadata={'source': 'У меня такой мак уже год, 90% времени подключен к монитору, 98% аккум', 'row': 4, 'date': '2024-01-05 11:00:51+00:00', 'message_id': '192401'}), Document(page_content='text: с августа 21 года пользовались\\nсерийник бьётся на сайте эппл', metadata={'source': 'с августа 21 года пользовались\\nсерийник бьётся на сайте эппл', 'row': 5, 'date': '2024-01-05 10:59:43+00:00', 'message_id': '192400'}), Document(page_content='text: hdmi', metadata={'source': 'hdmi', 'row': 6, 'date': '2024-01-05 10:59:29+00:00', 'message_id': '192399'}), Document(page_content='text: к монитору через type c или hdmi???\\nтут же есть разница большая', metadata={'source': 'к монитору через type c или hdmi???\\nтут же есть разница большая', 'row': 7, 'date': '2024-01-05 10:58:59+00:00', 'message_id': '192398'}), Document(page_content='text: ?', metadata={'source': '?', 'row': 8, 'date': '2024-01-05 10:58:58+00:00', 'message_id': '192397'}), Document(page_content='text: бу сколько', metadata={'source': 'бу сколько', 'row': 9, 'date': '2024-01-05 10:58:27+00:00', 'message_id': '192396'})]\n"
     ]
    }
   ],
   "source": [
    "print(data)"
   ]
  },
  {
   "cell_type": "code",
   "execution_count": 6,
   "metadata": {},
   "outputs": [],
   "source": [
    "load_dotenv(dotenv_path='../.env')\n",
    "PROXY_API_KEY = os.getenv(\"PROXY_API_KEY\")"
   ]
  },
  {
   "cell_type": "code",
   "execution_count": 7,
   "metadata": {},
   "outputs": [
    {
     "name": "stderr",
     "output_type": "stream",
     "text": [
      "/home/kartushov/pet_projects/PostFinder/.venv/lib/python3.10/site-packages/langchain_core/_api/deprecation.py:189: LangChainDeprecationWarning: The class `OpenAIEmbeddings` was deprecated in LangChain 0.1.0 and will be removed in 0.2.0. Use langchain_openai.OpenAIEmbeddings instead.\n",
      "  warn_deprecated(\n"
     ]
    }
   ],
   "source": [
    "emb_fn = OpenAIEmbeddings(\n",
    "    api_key=os.getenv(\"PROXY_API_KEY\"),\n",
    "    model=\"text-embedding-ada-002\",\n",
    "    base_url=\"https://api.proxyapi.ru/openai/v1\",\n",
    ")"
   ]
  },
  {
   "cell_type": "code",
   "execution_count": 8,
   "metadata": {},
   "outputs": [],
   "source": [
    "db = Chroma.from_documents(data, emb_fn)"
   ]
  },
  {
   "cell_type": "code",
   "execution_count": 9,
   "metadata": {},
   "outputs": [],
   "source": [
    "query = \"Ролики по питону\"\n",
    "docs = db.similarity_search(query)"
   ]
  },
  {
   "cell_type": "code",
   "execution_count": 10,
   "metadata": {},
   "outputs": [
    {
     "name": "stdout",
     "output_type": "stream",
     "text": [
      "[Document(page_content='text: а я сильно загружал: обучался питону. ролики, сайты, редактор кода. одних вкладок открыто постоянно 50-100', metadata={'date': '2024-01-05 11:11:44+00:00', 'message_id': '192405', 'row': 0, 'source': 'а я сильно загружал: обучался питону. ролики, сайты, редактор кода. одних вкладок открыто постоянно 50-100'}), Document(page_content='text: видимо, нормально для этих моделей 🤔', metadata={'date': '2024-01-05 11:02:47+00:00', 'message_id': '192403', 'row': 2, 'source': 'видимо, нормально для этих моделей 🤔'}), Document(page_content='text: оперативу загружаешь?', metadata={'date': '2024-01-05 11:02:25+00:00', 'message_id': '192402', 'row': 3, 'source': 'оперативу загружаешь?'}), Document(page_content='text: бу сколько', metadata={'date': '2024-01-05 10:58:27+00:00', 'message_id': '192396', 'row': 9, 'source': 'бу сколько'})]\n"
     ]
    }
   ],
   "source": [
    "print(docs)"
   ]
  },
  {
   "cell_type": "code",
   "execution_count": 11,
   "metadata": {},
   "outputs": [
    {
     "name": "stderr",
     "output_type": "stream",
     "text": [
      "/home/kartushov/pet_projects/PostFinder/.venv/lib/python3.10/site-packages/langchain_core/_api/deprecation.py:189: LangChainDeprecationWarning: The class `OpenAI` was deprecated in LangChain 0.1.0 and will be removed in 0.2.0. Use langchain_openai.OpenAI instead.\n",
      "  warn_deprecated(\n"
     ]
    }
   ],
   "source": [
    "import httpx\n",
    "\n",
    "openai = OpenAI(openai_api_key=PROXY_API_KEY, openai_api_base=\"https://api.proxyapi.ru/openai/v1\")"
   ]
  },
  {
   "cell_type": "code",
   "execution_count": 14,
   "metadata": {},
   "outputs": [],
   "source": [
    "from langchain.chat_models import ChatOpenAI"
   ]
  },
  {
   "cell_type": "code",
   "execution_count": 15,
   "metadata": {},
   "outputs": [
    {
     "name": "stderr",
     "output_type": "stream",
     "text": [
      "/home/kartushov/pet_projects/PostFinder/.venv/lib/python3.10/site-packages/langchain_core/_api/deprecation.py:189: LangChainDeprecationWarning: The class `ChatOpenAI` was deprecated in LangChain 0.1.0 and will be removed in 0.2.0. Use langchain_openai.ChatOpenAI instead.\n",
      "  warn_deprecated(\n"
     ]
    }
   ],
   "source": [
    "llm = ChatOpenAI(model_name=\"gpt-3.5-turbo\", temperature=0, openai_api_key=PROXY_API_KEY, openai_api_base=\"https://api.proxyapi.ru/openai/v1\")"
   ]
  },
  {
   "cell_type": "code",
   "execution_count": 16,
   "metadata": {},
   "outputs": [
    {
     "name": "stderr",
     "output_type": "stream",
     "text": [
      "/home/kartushov/pet_projects/PostFinder/.venv/lib/python3.10/site-packages/langchain/chains/retrieval_qa/base.py:256: UserWarning: `VectorDBQA` is deprecated - please use `from langchain.chains import RetrievalQA`\n",
      "  warnings.warn(\n"
     ]
    }
   ],
   "source": [
    "qa = VectorDBQA.from_chain_type(llm=llm, chain_type=\"stuff\", vectorstore=db)"
   ]
  },
  {
   "cell_type": "code",
   "execution_count": 17,
   "metadata": {},
   "outputs": [
    {
     "data": {
      "text/plain": [
       "'Я не знаю, сколько роликов по питону было просмотрено.'"
      ]
     },
     "execution_count": 17,
     "metadata": {},
     "output_type": "execute_result"
    }
   ],
   "source": [
    "qa.run(query)"
   ]
  },
  {
   "cell_type": "code",
   "execution_count": null,
   "metadata": {},
   "outputs": [],
   "source": []
  }
 ],
 "metadata": {
  "kernelspec": {
   "display_name": "Python 3.10.5 ('.venv': poetry)",
   "language": "python",
   "name": "python3"
  },
  "language_info": {
   "codemirror_mode": {
    "name": "ipython",
    "version": 3
   },
   "file_extension": ".py",
   "mimetype": "text/x-python",
   "name": "python",
   "nbconvert_exporter": "python",
   "pygments_lexer": "ipython3",
   "version": "3.10.13"
  },
  "orig_nbformat": 4,
  "vscode": {
   "interpreter": {
    "hash": "de87916773026c2a3e75fb54c4f93bfed36f59c832b56191b02f8dd5801604e3"
   }
  }
 },
 "nbformat": 4,
 "nbformat_minor": 2
}
