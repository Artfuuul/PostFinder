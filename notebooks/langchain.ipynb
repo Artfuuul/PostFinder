{
 "cells": [
  {
   "cell_type": "code",
   "execution_count": 1,
   "id": "06fffa69",
   "metadata": {},
   "outputs": [],
   "source": [
    "# FIX BUG WITH SQLITE\n",
    "# https://gist.github.com/defulmere/8b9695e415a44271061cc8e272f3c300\n",
    "\n",
    "__import__('pysqlite3')\n",
    "import sys\n",
    "import os\n",
    "sys.modules['sqlite3'] = sys.modules.pop('pysqlite3')\n",
    "\n",
    "DATABASES = {\n",
    "    'default': {\n",
    "        'ENGINE': 'django.db.backends.sqlite3',\n",
    "        'NAME': os.path.join('..', 'db.sqlite3'),\n",
    "    }\n",
    "}"
   ]
  },
  {
   "cell_type": "code",
   "execution_count": 2,
   "id": "13e04b3f-4fba-405a-80d5-798a935c5e6e",
   "metadata": {},
   "outputs": [],
   "source": [
    "import os\n",
    "import openai\n",
    "from langchain.vectorstores import Chroma\n",
    "from langchain.embeddings.openai import OpenAIEmbeddings\n",
    "from dotenv import load_dotenv\n",
    "from chromadb.utils import embedding_functions\n",
    "from langchain.schema.document import Document"
   ]
  },
  {
   "cell_type": "code",
   "execution_count": 3,
   "id": "7c99c48d",
   "metadata": {},
   "outputs": [],
   "source": [
    "import pandas as pd"
   ]
  },
  {
   "cell_type": "code",
   "execution_count": 5,
   "id": "25aa8d0a",
   "metadata": {},
   "outputs": [],
   "source": [
    "data = pd.read_csv(\"../src/artifacts/@karpovcourseschat.csv\", delimiter=\";\")"
   ]
  },
  {
   "cell_type": "code",
   "execution_count": 6,
   "id": "96e8b215",
   "metadata": {},
   "outputs": [
    {
     "data": {
      "text/html": [
       "<div>\n",
       "<style scoped>\n",
       "    .dataframe tbody tr th:only-of-type {\n",
       "        vertical-align: middle;\n",
       "    }\n",
       "\n",
       "    .dataframe tbody tr th {\n",
       "        vertical-align: top;\n",
       "    }\n",
       "\n",
       "    .dataframe thead th {\n",
       "        text-align: right;\n",
       "    }\n",
       "</style>\n",
       "<table border=\"1\" class=\"dataframe\">\n",
       "  <thead>\n",
       "    <tr style=\"text-align: right;\">\n",
       "      <th></th>\n",
       "      <th>message_id</th>\n",
       "      <th>date</th>\n",
       "      <th>text</th>\n",
       "    </tr>\n",
       "  </thead>\n",
       "  <tbody>\n",
       "    <tr>\n",
       "      <th>0</th>\n",
       "      <td>192405</td>\n",
       "      <td>2024-01-05 11:11:44+00:00</td>\n",
       "      <td>а я сильно загружал: обучался питону. ролики, ...</td>\n",
       "    </tr>\n",
       "    <tr>\n",
       "      <th>1</th>\n",
       "      <td>192404</td>\n",
       "      <td>2024-01-05 11:05:58+00:00</td>\n",
       "      <td>Не особо</td>\n",
       "    </tr>\n",
       "    <tr>\n",
       "      <th>2</th>\n",
       "      <td>192403</td>\n",
       "      <td>2024-01-05 11:02:47+00:00</td>\n",
       "      <td>видимо, нормально для этих моделей 🤔</td>\n",
       "    </tr>\n",
       "    <tr>\n",
       "      <th>3</th>\n",
       "      <td>192402</td>\n",
       "      <td>2024-01-05 11:02:25+00:00</td>\n",
       "      <td>оперативу загружаешь?</td>\n",
       "    </tr>\n",
       "    <tr>\n",
       "      <th>4</th>\n",
       "      <td>192401</td>\n",
       "      <td>2024-01-05 11:00:51+00:00</td>\n",
       "      <td>У меня такой мак уже год, 90% времени подключе...</td>\n",
       "    </tr>\n",
       "    <tr>\n",
       "      <th>5</th>\n",
       "      <td>192400</td>\n",
       "      <td>2024-01-05 10:59:43+00:00</td>\n",
       "      <td>с августа 21 года пользовались\\nсерийник бьётс...</td>\n",
       "    </tr>\n",
       "    <tr>\n",
       "      <th>6</th>\n",
       "      <td>192399</td>\n",
       "      <td>2024-01-05 10:59:29+00:00</td>\n",
       "      <td>hdmi</td>\n",
       "    </tr>\n",
       "    <tr>\n",
       "      <th>7</th>\n",
       "      <td>192398</td>\n",
       "      <td>2024-01-05 10:58:59+00:00</td>\n",
       "      <td>к монитору через type c или hdmi???\\nтут же ес...</td>\n",
       "    </tr>\n",
       "    <tr>\n",
       "      <th>8</th>\n",
       "      <td>192397</td>\n",
       "      <td>2024-01-05 10:58:58+00:00</td>\n",
       "      <td>?</td>\n",
       "    </tr>\n",
       "    <tr>\n",
       "      <th>9</th>\n",
       "      <td>192396</td>\n",
       "      <td>2024-01-05 10:58:27+00:00</td>\n",
       "      <td>бу сколько</td>\n",
       "    </tr>\n",
       "  </tbody>\n",
       "</table>\n",
       "</div>"
      ],
      "text/plain": [
       "   message_id                       date  \\\n",
       "0      192405  2024-01-05 11:11:44+00:00   \n",
       "1      192404  2024-01-05 11:05:58+00:00   \n",
       "2      192403  2024-01-05 11:02:47+00:00   \n",
       "3      192402  2024-01-05 11:02:25+00:00   \n",
       "4      192401  2024-01-05 11:00:51+00:00   \n",
       "5      192400  2024-01-05 10:59:43+00:00   \n",
       "6      192399  2024-01-05 10:59:29+00:00   \n",
       "7      192398  2024-01-05 10:58:59+00:00   \n",
       "8      192397  2024-01-05 10:58:58+00:00   \n",
       "9      192396  2024-01-05 10:58:27+00:00   \n",
       "\n",
       "                                                text  \n",
       "0  а я сильно загружал: обучался питону. ролики, ...  \n",
       "1                                           Не особо  \n",
       "2               видимо, нормально для этих моделей 🤔  \n",
       "3                              оперативу загружаешь?  \n",
       "4  У меня такой мак уже год, 90% времени подключе...  \n",
       "5  с августа 21 года пользовались\\nсерийник бьётс...  \n",
       "6                                               hdmi  \n",
       "7  к монитору через type c или hdmi???\\nтут же ес...  \n",
       "8                                                  ?  \n",
       "9                                         бу сколько  "
      ]
     },
     "execution_count": 6,
     "metadata": {},
     "output_type": "execute_result"
    }
   ],
   "source": [
    "data\n"
   ]
  },
  {
   "cell_type": "markdown",
   "id": "c9dcf79c",
   "metadata": {},
   "source": [
    "# Создаем функцию эмбеддингов"
   ]
  },
  {
   "cell_type": "code",
   "execution_count": 7,
   "id": "ea14a5ad",
   "metadata": {},
   "outputs": [],
   "source": [
    "load_dotenv(dotenv_path='../.env')\n",
    "PROXY_API_KEY = os.getenv(\"PROXY_API_KEY\")\n"
   ]
  },
  {
   "cell_type": "code",
   "execution_count": 8,
   "id": "142aea4e",
   "metadata": {},
   "outputs": [],
   "source": [
    "\n",
    "\n",
    "emb_fn = OpenAIEmbeddings(\n",
    "    api_key=os.getenv(\"PROXY_API_KEY\"),\n",
    "    model=\"text-embedding-ada-002\",\n",
    "    base_url=\"https://api.proxyapi.ru/openai/v1\",\n",
    ")"
   ]
  },
  {
   "cell_type": "code",
   "execution_count": 9,
   "id": "e584d8a9",
   "metadata": {},
   "outputs": [
    {
     "data": {
      "text/plain": [
       "OpenAIEmbeddings(client=<openai.resources.embeddings.Embeddings object at 0x7fe21d189f60>, async_client=<openai.resources.embeddings.AsyncEmbeddings object at 0x7fe21d0041c0>, model='text-embedding-ada-002', deployment='text-embedding-ada-002', openai_api_version='', openai_api_base='https://api.proxyapi.ru/openai/v1', openai_api_type='', openai_proxy='', embedding_ctx_length=8191, openai_api_key='sk-p43vYM3mtCnvdV1VF8Nm8CceANp4uO49', openai_organization=None, allowed_special=set(), disallowed_special='all', chunk_size=1000, max_retries=2, request_timeout=None, headers=None, tiktoken_enabled=True, tiktoken_model_name=None, show_progress_bar=False, model_kwargs={}, skip_empty=False, default_headers=None, default_query=None, retry_min_seconds=4, retry_max_seconds=20, http_client=None)"
      ]
     },
     "execution_count": 9,
     "metadata": {},
     "output_type": "execute_result"
    }
   ],
   "source": [
    "emb_fn"
   ]
  },
  {
   "cell_type": "markdown",
   "id": "5aaa8081",
   "metadata": {},
   "source": [
    "# Создаем ChromaDB"
   ]
  },
  {
   "cell_type": "code",
   "execution_count": 12,
   "id": "c4e64019",
   "metadata": {},
   "outputs": [],
   "source": [
    "chroma_client = chromadb.PersistentClient(path=\"./chroma_db_2\")\n"
   ]
  },
  {
   "cell_type": "code",
   "execution_count": 14,
   "id": "82e3d81d",
   "metadata": {},
   "outputs": [],
   "source": [
    "collection = chroma_client.get_or_create_collection(name=\"my_collection\")"
   ]
  },
  {
   "cell_type": "code",
   "execution_count": 16,
   "id": "b83501ad",
   "metadata": {},
   "outputs": [],
   "source": [
    "docs = data[\"text\"].to_list()\n",
    "\n",
    "collection.add(\n",
    "    documents=docs,\n",
    "    embeddings=emb_fn.embed_documents(docs),\n",
    "    metadatas=[{\"source\": \"local\"} for _ in docs],\n",
    "    ids=[f\"id{i}\" for i in range(len(docs))],\n",
    ")"
   ]
  },
  {
   "cell_type": "code",
   "execution_count": 19,
   "id": "c2faf92f",
   "metadata": {},
   "outputs": [],
   "source": [
    "collection = chroma_client.get_collection(name = \"my_collection\")"
   ]
  },
  {
   "cell_type": "code",
   "execution_count": 26,
   "id": "16efa8b4",
   "metadata": {},
   "outputs": [],
   "source": [
    "user_query = \"как дела?\"\n",
    "\n",
    "search_result = collection.query(\n",
    "  query_embeddings=emb_fn.embed_query(user_query),\n",
    "  n_results=5\n",
    ")"
   ]
  },
  {
   "cell_type": "code",
   "execution_count": 32,
   "id": "c4693d1e",
   "metadata": {},
   "outputs": [
    {
     "data": {
      "text/plain": [
       "['к монитору через type c или hdmi???\\nтут же есть разница большая',\n",
       " 'бу сколько',\n",
       " '?',\n",
       " 'видимо, нормально для этих моделей 🤔',\n",
       " 'оперативу загружаешь?']"
      ]
     },
     "execution_count": 32,
     "metadata": {},
     "output_type": "execute_result"
    }
   ],
   "source": [
    "results = search_result['documents'][0][::-1]"
   ]
  },
  {
   "cell_type": "code",
   "execution_count": 38,
   "id": "1dd76cc8",
   "metadata": {},
   "outputs": [
    {
     "data": {
      "text/plain": [
       "[Collection(name=my_collection)]"
      ]
     },
     "execution_count": 38,
     "metadata": {},
     "output_type": "execute_result"
    }
   ],
   "source": []
  },
  {
   "cell_type": "code",
   "execution_count": null,
   "id": "122e73c0",
   "metadata": {},
   "outputs": [],
   "source": []
  }
 ],
 "metadata": {
  "kernelspec": {
   "display_name": "Python 3.10.5 ('.venv': poetry)",
   "language": "python",
   "name": "python3"
  },
  "language_info": {
   "codemirror_mode": {
    "name": "ipython",
    "version": 3
   },
   "file_extension": ".py",
   "mimetype": "text/x-python",
   "name": "python",
   "nbconvert_exporter": "python",
   "pygments_lexer": "ipython3",
   "version": "3.10.13"
  },
  "vscode": {
   "interpreter": {
    "hash": "de87916773026c2a3e75fb54c4f93bfed36f59c832b56191b02f8dd5801604e3"
   }
  }
 },
 "nbformat": 4,
 "nbformat_minor": 5
}
